{
 "cells": [
  {
   "cell_type": "code",
   "execution_count": null,
   "id": "156ff5d9-c8f2-4626-b23b-cb96094be151",
   "metadata": {
    "tags": []
   },
   "outputs": [],
   "source": [
    "import pandas as pd\n",
    "from sklearn.preprocessing import MinMaxScaler\n",
    "\n",
    "data= pd.read_csv(\"waterQuality1.csv\")\n",
    "data"
   ]
  },
  {
   "cell_type": "code",
   "execution_count": null,
   "id": "fe86293c-75fc-4ab4-ab59-fe4c5407ad28",
   "metadata": {
    "tags": []
   },
   "outputs": [],
   "source": [
    "data.info()"
   ]
  },
  {
   "cell_type": "code",
   "execution_count": null,
   "id": "61432224-4b30-44f4-bf9e-c8068d2264ab",
   "metadata": {
    "tags": []
   },
   "outputs": [],
   "source": [
    "cols = ['ammonia','selenium']\n",
    "dataEdit = data.drop(cols, axis=1)\n",
    "dataEdit"
   ]
  },
  {
   "cell_type": "code",
   "execution_count": null,
   "id": "aba49f10-c1ad-4c45-9a91-38132e95da9e",
   "metadata": {
    "tags": []
   },
   "outputs": [],
   "source": [
    "dataEdit.info()"
   ]
  },
  {
   "cell_type": "code",
   "execution_count": null,
   "id": "8d3930ce-9b31-4f66-9708-2fdf706cc389",
   "metadata": {
    "tags": []
   },
   "outputs": [],
   "source": [
    "dataEdit = dataEdit[~dataEdit.applymap(lambda x: x == '#NUM!').any(axis=1)]\n",
    "\n",
    "# Reset the index to ensure it's continuous\n",
    "dataEdit.reset_index(drop=True, inplace=True)"
   ]
  },
  {
   "cell_type": "code",
   "execution_count": null,
   "id": "80b425dc-0a08-47bd-bc29-cfd641f102f4",
   "metadata": {
    "tags": []
   },
   "outputs": [],
   "source": [
    "dataEdit.info()"
   ]
  },
  {
   "cell_type": "code",
   "execution_count": null,
   "id": "415b3d1a-22a6-4439-9623-00ad8a42364d",
   "metadata": {},
   "outputs": [],
   "source": [
    "dataset1 = dataEdit.astype(float)\n",
    "dataset1"
   ]
  },
  {
   "cell_type": "code",
   "execution_count": null,
   "id": "98e6d30b-93ae-4fc7-84dc-2fff28649b42",
   "metadata": {
    "tags": []
   },
   "outputs": [],
   "source": [
    "X = dataEdit.drop(['is_safe'],axis=1)\n",
    "y = dataEdit['is_safe']"
   ]
  },
  {
   "cell_type": "code",
   "execution_count": null,
   "id": "7d893d2c-005b-45bb-bc15-8545b3f15120",
   "metadata": {
    "tags": []
   },
   "outputs": [],
   "source": [
    "from sklearn.model_selection import train_test_split\n",
    "X_train, X_test, y_train, y_test = train_test_split(X,y, test_size=0.2, stratify=y, random_state=0)"
   ]
  },
  {
   "cell_type": "code",
   "execution_count": null,
   "id": "5050412e-4721-4e0b-9e1a-5d10ed65cd14",
   "metadata": {
    "tags": []
   },
   "outputs": [],
   "source": [
    "from sklearn.preprocessing import MinMaxScaler\n",
    "scl = MinMaxScaler().fit(X_train)\n",
    "X_train_norm = scl.transform(X_train)\n",
    "X_test_norm = scl.transform(X_test)"
   ]
  },
  {
   "cell_type": "code",
   "execution_count": null,
   "id": "c4857517-b859-4fef-90d2-a3176c755057",
   "metadata": {},
   "outputs": [],
   "source": [
    "from sklearn.model_selection import GridSearchCV\n",
    "from sklearn.pipeline import Pipeline\n",
    "from sklearn.svm import SVC\n",
    "clf = Pipeline([\n",
    "#('fs', SelectFromModel(RandomForestClassifier())),\n",
    "('cls', SVC(random_state=0))\n",
    "])\n",
    "params = {\n",
    "#\"fs__max_features\": [5,7],       \n",
    "\"cls__C\": [1,2,4,8,16,32],     \n",
    "}\n",
    "clf = GridSearchCV(clf, params).fit(X_train_norm, y_train)\n",
    "yp = clf.predict(X_test_norm) \n",
    "print(\"CV Accuracy = \" + str(clf.best_score_) + \" Test Accuracy = \" + str(sum(yp==y_test)/len(y_test)))"
   ]
  },
  {
   "cell_type": "code",
   "execution_count": null,
   "id": "d7cfa9d3",
   "metadata": {},
   "outputs": [],
   "source": []
  }
 ],
 "metadata": {
  "kernelspec": {
   "display_name": "Python 3 (ipykernel)",
   "language": "python",
   "name": "python3"
  },
  "language_info": {
   "codemirror_mode": {
    "name": "ipython",
    "version": 3
   },
   "file_extension": ".py",
   "mimetype": "text/x-python",
   "name": "python",
   "nbconvert_exporter": "python",
   "pygments_lexer": "ipython3",
   "version": "3.10.6"
  }
 },
 "nbformat": 4,
 "nbformat_minor": 5
}
